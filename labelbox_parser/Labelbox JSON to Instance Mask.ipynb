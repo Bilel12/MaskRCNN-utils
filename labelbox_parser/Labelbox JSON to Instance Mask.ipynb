{
 "cells": [
  {
   "cell_type": "code",
   "execution_count": null,
   "metadata": {},
   "outputs": [],
   "source": [
    "import json\n",
    "import imageio\n",
    "import numpy as np\n",
    "import os\n",
    "import re\n",
    "from skimage import draw, io\n",
    "import uuid\n",
    "import skimage.transform\n",
    "import scipy\n",
    "import warnings\n",
    "import shutil"
   ]
  },
  {
   "cell_type": "code",
   "execution_count": null,
   "metadata": {},
   "outputs": [],
   "source": [
    "OUTPUT_ROOT_DIR = './output'\n",
    "labelbox_json = json.load(open('./input/labelbox.json'))\n",
    "resize = False"
   ]
  },
  {
   "cell_type": "code",
   "execution_count": null,
   "metadata": {},
   "outputs": [],
   "source": [
    "def resize_image_to_square(image, side_dim=1992):\n",
    "    image_dtype = image.dtype\n",
    "    \n",
    "    h, w = image.shape[:2]\n",
    "    window = (0, 0, h, w)\n",
    "    padding = [(0, 0), (0, 0), (0, 0)]\n",
    "\n",
    "    scale = 1\n",
    "    image_max = max(h, w)\n",
    "    if round(image_max * scale) > side_dim:\n",
    "        scale = side_dim / image_max\n",
    "\n",
    "    # Resize image using bilinear interpolation\n",
    "    if scale != 1:\n",
    "        image = skimage.transform.resize(image, (round(h * scale), round(w * scale)), order=1, mode=\"constant\", preserve_range=True)\n",
    "        h, w = image.shape[:2]\n",
    "        \n",
    "    top_pad = (side_dim - h) // 2\n",
    "    bottom_pad = side_dim - h - top_pad\n",
    "    left_pad = (side_dim - w) // 2\n",
    "    right_pad = side_dim - w - left_pad\n",
    "    padding = [(top_pad, bottom_pad), (left_pad, right_pad), (0, 0)]\n",
    "    image = np.pad(image, padding, mode='constant', constant_values=0)\n",
    "    \n",
    "    return image.astype(image_dtype), padding, scale"
   ]
  },
  {
   "cell_type": "code",
   "execution_count": null,
   "metadata": {},
   "outputs": [],
   "source": [
    "def resize_mask(mask, padding, scale):\n",
    "    # Suppress warning from scipy 0.13.0, the output shape of zoom() is\n",
    "    # calculated with round() instead of int()\n",
    "    with warnings.catch_warnings():\n",
    "        warnings.simplefilter(\"ignore\")\n",
    "        mask = scipy.ndimage.zoom(mask, zoom=[scale, scale], order=0)\n",
    "        \n",
    "    return np.pad(mask, padding, mode='constant', constant_values=0)"
   ]
  },
  {
   "cell_type": "code",
   "execution_count": null,
   "metadata": {},
   "outputs": [],
   "source": [
    "output_images_dir = os.path.join(OUTPUT_ROOT_DIR, 'images')\n",
    "output_masks_dir = os.path.join(OUTPUT_ROOT_DIR, 'masks')\n",
    "\n",
    "# remove any previous labelbox parsed data\n",
    "if os.path.exists(OUTPUT_ROOT_DIR):\n",
    "    shutil.rmtree(OUTPUT_ROOT_DIR)\n",
    "\n",
    "os.makedirs(output_images_dir)\n",
    "os.makedirs(output_masks_dir)\n",
    "\n",
    "for item in labelbox_json:\n",
    "    image_name = item['External ID']\n",
    "    image_url = item['Labeled Data']\n",
    "    print(\"image_url: {}\".format(image_url))\n",
    "    \n",
    "    image = io.imread(image_url)\n",
    "    height, width = image.shape[:2]\n",
    "    \n",
    "    if resize:\n",
    "        image, padding, scale = resize_image_to_square(image)\n",
    "    \n",
    "    labels = item['Label']\n",
    "    if labels == 'Skip':\n",
    "        continue\n",
    "        \n",
    "    for label_name, label_polygons in labels.items():\n",
    "        ## TODO: Add support to multiple labels and remove this check\n",
    "        if not label_name == 'Vein':\n",
    "            continue\n",
    "            \n",
    "        for index, label_polygon in enumerate(label_polygons):\n",
    "            mask = np.zeros((height, width), dtype=np.uint8)\n",
    "            all_points_x = []\n",
    "            all_points_y = []\n",
    "            for coords in label_polygon:\n",
    "                all_points_x.append(coords['x'])\n",
    "                all_points_y.append(coords['y'])\n",
    "\n",
    "            rr, cc = draw.polygon(all_points_y, all_points_x)\n",
    "            \n",
    "            mask[rr, cc] = 1\n",
    "            mask = np.flipud(mask)\n",
    "            if resize:\n",
    "                mask = resize_mask(mask, padding[:2], scale)\n",
    "                \n",
    "            new_filename = '{}_inst_{}.png'.format(os.path.splitext(image_name)[0], index)\n",
    "            \n",
    "            image_output_path = os.path.join(output_images_dir, new_filename)\n",
    "            imageio.imwrite(image_output_path, image)\n",
    "            \n",
    "            instance_mask_output_path = os.path.join(output_masks_dir, new_filename)\n",
    "            imageio.imwrite(instance_mask_output_path, mask)\n",
    "#     break\n"
   ]
  }
 ],
 "metadata": {
  "kernelspec": {
   "display_name": "Python 3",
   "language": "python",
   "name": "python3"
  },
  "language_info": {
   "codemirror_mode": {
    "name": "ipython",
    "version": 3
   },
   "file_extension": ".py",
   "mimetype": "text/x-python",
   "name": "python",
   "nbconvert_exporter": "python",
   "pygments_lexer": "ipython3",
   "version": "3.5.5"
  }
 },
 "nbformat": 4,
 "nbformat_minor": 2
}
