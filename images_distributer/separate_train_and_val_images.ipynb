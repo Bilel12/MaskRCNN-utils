{
 "cells": [
  {
   "cell_type": "code",
   "execution_count": null,
   "metadata": {},
   "outputs": [],
   "source": [
    "import os\n",
    "import numpy as np\n",
    "import shutil\n",
    "import math\n",
    "\n",
    "VAL_DATASET_PERCENT = 5\n",
    "SOURCE_DIR = '../augmentor/output/stage1_train'\n",
    "OUTPUT_DIR = './output/'"
   ]
  },
  {
   "cell_type": "code",
   "execution_count": null,
   "metadata": {},
   "outputs": [],
   "source": [
    "train_dir = os.path.join(OUTPUT_DIR, 'stage1_train')\n",
    "val_dir = os.path.join(OUTPUT_DIR, 'val')\n",
    "\n",
    "# remove any dataset from previous run\n",
    "if os.path.exists(train_dir):\n",
    "    shutil.rmtree(train_dir)\n",
    "if os.path.exists(val_dir):\n",
    "    shutil.rmtree(val_dir)\n",
    "\n",
    "os.makedirs(train_dir)\n",
    "os.makedirs(val_dir)\n"
   ]
  },
  {
   "cell_type": "code",
   "execution_count": null,
   "metadata": {},
   "outputs": [],
   "source": [
    "all_files = os.listdir(os.path.join(SOURCE_DIR, 'images'))\n",
    "val_files = set(np.random.choice(\n",
    "    all_files, int(math.ceil(VAL_DATASET_PERCENT / 100 * len(all_files)))\n",
    "))\n",
    "\n",
    "for val_file in val_files:\n",
    "    target_image_dir = os.path.join(val_dir, val_file, 'images')\n",
    "    os.makedirs(target_image_dir)\n",
    "    \n",
    "    shutil.copy(\n",
    "        os.path.join(SOURCE_DIR, 'images', val_file),\n",
    "        os.path.join(target_image_dir, val_file)\n",
    "    )\n",
    "    \n",
    "    target_mask_dir = os.path.join(val_dir, val_file, 'masks')\n",
    "    os.makedirs(target_mask_dir)\n",
    "    \n",
    "    shutil.copy(\n",
    "        os.path.join(SOURCE_DIR, 'masks', val_file),\n",
    "        os.path.join(target_mask_dir, val_file)\n",
    "    )\n"
   ]
  },
  {
   "cell_type": "code",
   "execution_count": null,
   "metadata": {},
   "outputs": [],
   "source": [
    "for train_file in (set(all_files) - set(val_files)):\n",
    "    target_image_dir = os.path.join(train_dir, train_file, 'images')\n",
    "    os.makedirs(target_image_dir)\n",
    "    \n",
    "    shutil.copy(\n",
    "        os.path.join(SOURCE_DIR, 'images', train_file),\n",
    "        os.path.join(target_image_dir, train_file)\n",
    "    )\n",
    "    \n",
    "    target_mask_dir = os.path.join(train_dir, train_file, 'masks')\n",
    "    os.makedirs(target_mask_dir)\n",
    "    \n",
    "    shutil.copy(\n",
    "        os.path.join(SOURCE_DIR, 'masks', train_file),\n",
    "        os.path.join(target_mask_dir, train_file)\n",
    "    )\n"
   ]
  }
 ],
 "metadata": {
  "kernelspec": {
   "display_name": "Python 3",
   "language": "python",
   "name": "python3"
  },
  "language_info": {
   "codemirror_mode": {
    "name": "ipython",
    "version": 3
   },
   "file_extension": ".py",
   "mimetype": "text/x-python",
   "name": "python",
   "nbconvert_exporter": "python",
   "pygments_lexer": "ipython3",
   "version": "3.5.5"
  }
 },
 "nbformat": 4,
 "nbformat_minor": 2
}
