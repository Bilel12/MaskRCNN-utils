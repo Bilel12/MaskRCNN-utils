{
 "cells": [
  {
   "cell_type": "code",
   "execution_count": null,
   "metadata": {},
   "outputs": [],
   "source": [
    "import os\n",
    "import numpy as np\n",
    "import shutil\n",
    "import math\n",
    "\n",
    "TEST_DATASET_PERCENT = 5\n",
    "SOURCE_DIR = '../augmentor/output/stage1_train'\n",
    "TARGET_DIR = '../augmentor/output/val'\n",
    "\n",
    "all_dirs = os.listdir(SOURCE_DIR)\n",
    "test_dirs = set(np.random.choice(\n",
    "    all_dirs, int(math.ceil(TEST_DATASET_PERCENT / 100 * len(all_dirs)))\n",
    "))\n",
    "\n",
    "for test_dir in test_dirs:\n",
    "    shutil.move(\n",
    "        os.path.join(SOURCE_DIR, test_dir),\n",
    "        os.path.join(TARGET_DIR, test_dir)\n",
    "    )\n"
   ]
  }
 ],
 "metadata": {
  "kernelspec": {
   "display_name": "Python 3",
   "language": "python",
   "name": "python3"
  },
  "language_info": {
   "codemirror_mode": {
    "name": "ipython",
    "version": 3
   },
   "file_extension": ".py",
   "mimetype": "text/x-python",
   "name": "python",
   "nbconvert_exporter": "python",
   "pygments_lexer": "ipython3",
   "version": "3.5.5"
  }
 },
 "nbformat": 4,
 "nbformat_minor": 2
}
