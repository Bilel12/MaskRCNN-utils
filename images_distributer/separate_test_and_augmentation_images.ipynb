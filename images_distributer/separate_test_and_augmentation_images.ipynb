{
 "cells": [
  {
   "cell_type": "code",
   "execution_count": null,
   "metadata": {},
   "outputs": [],
   "source": [
    "import os\n",
    "import numpy as np\n",
    "import shutil\n",
    "import math\n",
    "import glob\n",
    "\n",
    "TEST_DATASET_PERCENT = 5\n",
    "LABELBOX_OUTPUT_DIR = '../labelbox_parser/output'\n",
    "IMAGE_SPLITTER_OUTPUT_DIR = '../image_splitter/output'\n",
    "\n",
    "TARGET_TEST_DIR = '../images_distributer/output/stage1_test'\n",
    "TARGET_AUGMENTATION_DIR = '../augmentor/input/'"
   ]
  },
  {
   "cell_type": "code",
   "execution_count": null,
   "metadata": {},
   "outputs": [],
   "source": [
    "def get_splitted_test_files():\n",
    "    all_labelbox_files = os.listdir(os.path.join(LABELBOX_OUTPUT_DIR, 'images'))\n",
    "    labelbox_test_files = set(np.random.choice(\n",
    "        all_labelbox_files, int(math.ceil(TEST_DATASET_PERCENT / 100 * len(all_labelbox_files)))\n",
    "    ))\n",
    "\n",
    "    splitted_test_files = []\n",
    "\n",
    "    for labelbox_test_file in labelbox_test_files:\n",
    "        splitted_test_files.extend(\n",
    "            map(\n",
    "                (lambda x: os.path.basename(x)),\n",
    "                glob.glob('{}/images/{}*'.format(IMAGE_SPLITTER_OUTPUT_DIR, os.path.splitext(labelbox_test_file)[0]))\n",
    "            )\n",
    "        )\n",
    "    return splitted_test_files\n"
   ]
  },
  {
   "cell_type": "code",
   "execution_count": null,
   "metadata": {},
   "outputs": [],
   "source": [
    "splitted_all_files = os.listdir(os.path.join(IMAGE_SPLITTER_OUTPUT_DIR, 'images'))\n",
    "splitted_test_files = get_splitted_test_files()"
   ]
  },
  {
   "cell_type": "code",
   "execution_count": null,
   "metadata": {},
   "outputs": [],
   "source": [
    "# remove any test dataset from previous run\n",
    "if os.path.exists(TARGET_TEST_DIR):\n",
    "    shutil.rmtree(TARGET_TEST_DIR)\n",
    "\n",
    "# and create clean slate dir\n",
    "os.makedirs(TARGET_TEST_DIR)"
   ]
  },
  {
   "cell_type": "code",
   "execution_count": null,
   "metadata": {},
   "outputs": [],
   "source": [
    "for splitted_test_file in splitted_test_files:\n",
    "    target_image_dir = os.path.join(TARGET_TEST_DIR, splitted_test_file, 'images')\n",
    "    os.makedirs(target_image_dir)\n",
    "    \n",
    "    shutil.copy(\n",
    "        os.path.join(IMAGE_SPLITTER_OUTPUT_DIR, 'images', splitted_test_file),\n",
    "        os.path.join(target_image_dir, splitted_test_file)\n",
    "    )\n",
    "    \n",
    "    target_mask_dir = os.path.join(TARGET_TEST_DIR, splitted_test_file, 'masks')\n",
    "    os.makedirs(target_mask_dir)\n",
    "    \n",
    "    shutil.copy(\n",
    "        os.path.join(IMAGE_SPLITTER_OUTPUT_DIR, 'masks', splitted_test_file),\n",
    "        os.path.join(target_mask_dir, splitted_test_file)\n",
    "    )\n"
   ]
  },
  {
   "cell_type": "code",
   "execution_count": null,
   "metadata": {},
   "outputs": [],
   "source": [
    "target_augmentation_images_dir = os.path.join(TARGET_AUGMENTATION_DIR, 'images')\n",
    "target_augmentation_masks_dir = os.path.join(TARGET_AUGMENTATION_DIR, 'masks')\n",
    "\n",
    "# remove any augmentation input dirs for images and masks from previous run\n",
    "if os.path.exists(target_augmentation_images_dir):\n",
    "    shutil.rmtree(target_augmentation_images_dir)\n",
    "if os.path.exists(target_augmentation_masks_dir):\n",
    "    shutil.rmtree(target_augmentation_masks_dir)\n",
    "\n",
    "# and create clean slate dirs\n",
    "os.makedirs(target_augmentation_images_dir)\n",
    "os.makedirs(target_augmentation_masks_dir)\n",
    "\n",
    "for augmentation_file in (set(splitted_all_files) - set(splitted_test_files)):\n",
    "    shutil.copy(\n",
    "        os.path.join(IMAGE_SPLITTER_OUTPUT_DIR, 'images', augmentation_file),\n",
    "        os.path.join(target_augmentation_images_dir, augmentation_file)\n",
    "    )\n",
    "    \n",
    "    shutil.copy(\n",
    "        os.path.join(IMAGE_SPLITTER_OUTPUT_DIR, 'masks', augmentation_file),\n",
    "        os.path.join(target_augmentation_masks_dir, augmentation_file)\n",
    "    )"
   ]
  }
 ],
 "metadata": {
  "kernelspec": {
   "display_name": "Python 3",
   "language": "python",
   "name": "python3"
  },
  "language_info": {
   "codemirror_mode": {
    "name": "ipython",
    "version": 3
   },
   "file_extension": ".py",
   "mimetype": "text/x-python",
   "name": "python",
   "nbconvert_exporter": "python",
   "pygments_lexer": "ipython3",
   "version": "3.5.5"
  }
 },
 "nbformat": 4,
 "nbformat_minor": 2
}
