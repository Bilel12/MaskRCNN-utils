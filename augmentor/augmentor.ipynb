{
 "cells": [
  {
   "cell_type": "code",
   "execution_count": 1,
   "metadata": {},
   "outputs": [
    {
     "name": "stderr",
     "output_type": "stream",
     "text": [
      "Executing Pipeline:   0%|          | 0/10000 [00:00<?, ? Samples/s]"
     ]
    },
    {
     "name": "stdout",
     "output_type": "stream",
     "text": [
      "Initialised with 64 image(s) found.\n",
      "Output directory set to ./input/images/output.64 ground truth image(s) found.\n"
     ]
    },
    {
     "name": "stderr",
     "output_type": "stream",
     "text": [
      "Processing <PIL.Image.Image image mode=RGBA size=1294x800 at 0x7F06B96AAC88>:  86%|████████▌ | 8579/10000 [05:38<00:01, 1143.15 Samples/s]IOPub message rate exceeded.\n",
      "The notebook server will temporarily stop sending output\n",
      "to the client in order to avoid crashing it.\n",
      "To change this limit, set the config variable\n",
      "`--NotebookApp.iopub_msg_rate_limit`.\n",
      "\n",
      "Current values:\n",
      "NotebookApp.iopub_msg_rate_limit=1000.0 (msgs/sec)\n",
      "NotebookApp.rate_limit_window=3.0 (secs)\n",
      "\n",
      "Processing <PIL.Image.Image image mode=RGBA size=1416x312 at 0x7F06B94CA940>: 100%|██████████| 10000/10000 [05:40<00:00, 29.33 Samples/s] \n"
     ]
    }
   ],
   "source": [
    "import Augmentor\n",
    "from PIL import Image\n",
    "from tqdm import tqdm\n",
    "import os\n",
    "import re\n",
    "import shutil\n",
    "\n",
    "image_dir = './input/images'\n",
    "mask_dir = './input/masks'\n",
    "output_dir = './output'\n",
    "\n",
    "p = Augmentor.Pipeline(image_dir)\n",
    "# Point to a directory containing ground truth data.\n",
    "# Images with the same file names will be added as ground truth data\n",
    "# and augmented in parallel to the original data.\n",
    "p.ground_truth(mask_dir)\n",
    "\n",
    "p.rotate_without_crop(probability=1, max_left_rotation=120, max_right_rotation=120)\n",
    "p.flip_left_right(probability=1)\n",
    "p.flip_top_bottom(probability=1)\n",
    "# p.skew(probability=1)\n",
    "# p.random_distortion(probability=1, grid_width=6, grid_height=6, magnitude=8)\n",
    "p.sample(10000)\n"
   ]
  },
  {
   "cell_type": "code",
   "execution_count": 2,
   "metadata": {},
   "outputs": [
    {
     "name": "stderr",
     "output_type": "stream",
     "text": [
      "100%|██████████| 20000/20000 [00:01<00:00, 10811.88it/s]\n"
     ]
    }
   ],
   "source": [
    "# Augmentor genenrates images into ./images/output in following formats:\n",
    "# - original image: images_original_rock-8.png_325b4fc9-cf0b-4c6a-9574-dc9cc13da6b3.png\n",
    "# - masked image  : _groundtruth_(1)_images_rock-8.png_325b4fc9-cf0b-4c6a-9574-dc9cc13da6b3.png\n",
    "# Now, we need to convert them into following structure:\n",
    "# - original image: images/rock-8.png_325b4fc9-cf0b-4c6a-9574-dc9cc13da6b3.png\n",
    "# - masked image  : masks/rock-8.png_325b4fc9-cf0b-4c6a-9574-dc9cc13da6b3.png\n",
    "\n",
    "target_root_dir = os.path.join(output_dir, 'stage1_train')\n",
    "os.mkdir(target_root_dir)\n",
    "    \n",
    "augmentor_output_dir = os.path.join(image_dir, 'output')\n",
    "for filename in tqdm(os.listdir(augmentor_output_dir)):\n",
    "    if re.search(r\"^_groundtruth_\", filename):\n",
    "        new_filename = re.sub(\n",
    "            r\"^_groundtruth_\\(1\\)_images_\",\n",
    "            '',\n",
    "            filename\n",
    "        )\n",
    "        image_or_mask_subdir = 'masks'\n",
    "    else:\n",
    "        new_filename = re.sub(\n",
    "            r\"^images_original_\",\n",
    "            '',\n",
    "            filename\n",
    "        )\n",
    "        image_or_mask_subdir = 'images'\n",
    "        \n",
    "    image_full_path = os.path.join(augmentor_output_dir, filename)\n",
    "    target_file_root_dir = os.path.join(target_root_dir, new_filename)\n",
    "    if not os.path.exists(target_file_root_dir):\n",
    "        os.mkdir(target_file_root_dir)\n",
    "\n",
    "    target_dir = os.path.join(target_file_root_dir, image_or_mask_subdir)\n",
    "    if not os.path.exists(target_dir):\n",
    "        os.mkdir(target_dir)\n",
    "    \n",
    "    shutil.move(\n",
    "        image_full_path,\n",
    "        os.path.join(target_dir, new_filename)\n",
    "    )\n",
    "    \n",
    "    \n",
    "    \n"
   ]
  },
  {
   "cell_type": "code",
   "execution_count": 3,
   "metadata": {},
   "outputs": [
    {
     "name": "stderr",
     "output_type": "stream",
     "text": [
      "100%|██████████| 65/65 [00:00<00:00, 426.35it/s]\n"
     ]
    }
   ],
   "source": [
    "\n",
    "for filename in tqdm(os.listdir(image_dir)):\n",
    "    if os.path.isdir(filename):\n",
    "        continue\n",
    "        \n",
    "    image_full_path = os.path.join(image_dir, filename)\n",
    "\n",
    "    target_file_root_dir = os.path.join(target_root_dir, filename)\n",
    "    if not os.path.exists(target_file_root_dir):\n",
    "        os.mkdir(target_file_root_dir)\n",
    "\n",
    "    target_dir = os.path.join(target_file_root_dir, 'images')\n",
    "    if not os.path.exists(target_dir):\n",
    "        os.mkdir(target_dir)\n",
    "    \n",
    "    shutil.copy(\n",
    "        image_full_path,\n",
    "        os.path.join(target_dir, filename)\n",
    "    )\n",
    "    \n",
    "    \n",
    "    \n"
   ]
  },
  {
   "cell_type": "code",
   "execution_count": 4,
   "metadata": {},
   "outputs": [
    {
     "name": "stderr",
     "output_type": "stream",
     "text": [
      "100%|██████████| 64/64 [00:00<00:00, 4088.33it/s]\n"
     ]
    }
   ],
   "source": [
    "\n",
    "for filename in tqdm(os.listdir(mask_dir)):\n",
    "    if os.path.isdir(filename):\n",
    "        continue\n",
    "        \n",
    "    image_full_path = os.path.join(mask_dir, filename)\n",
    "\n",
    "    target_file_root_dir = os.path.join(target_root_dir, filename)\n",
    "    if not os.path.exists(target_file_root_dir):\n",
    "        os.mkdir(target_file_root_dir)\n",
    "\n",
    "    target_dir = os.path.join(target_file_root_dir, 'masks')\n",
    "    if not os.path.exists(target_dir):\n",
    "        os.mkdir(target_dir)\n",
    "    \n",
    "    shutil.copy(\n",
    "        image_full_path,\n",
    "        os.path.join(target_dir, filename)\n",
    "    )\n",
    "    \n"
   ]
  }
 ],
 "metadata": {
  "kernelspec": {
   "display_name": "Python 3",
   "language": "python",
   "name": "python3"
  },
  "language_info": {
   "codemirror_mode": {
    "name": "ipython",
    "version": 3
   },
   "file_extension": ".py",
   "mimetype": "text/x-python",
   "name": "python",
   "nbconvert_exporter": "python",
   "pygments_lexer": "ipython3",
   "version": "3.5.5"
  }
 },
 "nbformat": 4,
 "nbformat_minor": 2
}
