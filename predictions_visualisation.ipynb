{
 "cells": [
  {
   "cell_type": "code",
   "execution_count": null,
   "metadata": {
    "scrolled": false
   },
   "outputs": [],
   "source": [
    "import json\n",
    "import numpy as np\n",
    "from imageio import imread\n",
    "import os\n",
    "import random\n",
    "import matplotlib.pyplot as plt\n",
    "from matplotlib import patches,  lines\n",
    "from matplotlib.patches import Polygon\n",
    "import colorsys\n",
    "\n",
    "ORIGINAL_IMAGES_DIR = '/data/vein/original-images'\n",
    "PREDICTIONS_JSON_PATH = '/data/dkpun-data/mask_rcnn/results/vein/predictions_20180621T114943/predictions.json'\n",
    "\n",
    "def random_colors(N, bright=True):\n",
    "    brightness = 1.0 if bright else 0.7\n",
    "    hsv = [(i / N, 1, brightness) for i in range(N)]\n",
    "    colors = list(map(lambda c: colorsys.hsv_to_rgb(*c), hsv))\n",
    "    random.shuffle(colors)\n",
    "    return colors\n",
    "\n",
    "def display_instances(image, instances, show_label=True):\n",
    "    colors = random_colors(len(instances))\n",
    "    \n",
    "    _, ax = plt.subplots(figsize=(18, 18))\n",
    "    ax.axis('off')\n",
    "    \n",
    "    for i, instance in enumerate(instances):\n",
    "        color = colors[i]\n",
    "        for verts in instance['polygons']:\n",
    "            p = Polygon(verts, facecolor=\"none\", edgecolor=color)\n",
    "            ax.add_patch(p)\n",
    "            \n",
    "        if show_label:\n",
    "            x1, y1, x2, y2 = instance['bounding_box']\n",
    "            p = patches.Rectangle((x1, y1), x2 - x1, y2 - y1, linewidth=2,\n",
    "                                  alpha=0.7, linestyle=\"dashed\",\n",
    "                                  edgecolor=color, facecolor='none')\n",
    "            ax.add_patch(p)\n",
    "\n",
    "            caption = \"vein {:.3f}\".format(instance['score'])\n",
    "            ax.text(x1, y1 + 8, caption, color='w', size=11, backgroundcolor=\"none\")\n",
    "\n",
    "    ax.imshow(image)\n",
    "    plt.show()\n",
    "\n",
    "predictions_json = json.load(open(PREDICTIONS_JSON_PATH))\n",
    "for prediction in predictions_json:\n",
    "    print(\"Filename: {}\".format(prediction[\"original_image_id\"]))\n",
    "    image = imread(os.path.join(ORIGINAL_IMAGES_DIR, prediction[\"original_image_id\"]))\n",
    "    display_instances(image, prediction[\"vein_instances\"], show_label=True)\n",
    "    display_instances(image, prediction[\"vein_instances\"], show_label=False)\n"
   ]
  },
  {
   "cell_type": "code",
   "execution_count": null,
   "metadata": {},
   "outputs": [],
   "source": []
  }
 ],
 "metadata": {
  "kernelspec": {
   "display_name": "Python 3",
   "language": "python",
   "name": "python3"
  },
  "language_info": {
   "codemirror_mode": {
    "name": "ipython",
    "version": 3
   },
   "file_extension": ".py",
   "mimetype": "text/x-python",
   "name": "python",
   "nbconvert_exporter": "python",
   "pygments_lexer": "ipython3",
   "version": "3.5.5"
  }
 },
 "nbformat": 4,
 "nbformat_minor": 2
}
